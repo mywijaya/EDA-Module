{
 "cells": [
  {
   "cell_type": "markdown",
   "id": "1dfa6fa5-95d5-4da7-9718-d2893de43a2f",
   "metadata": {},
   "source": [
    "## Pengantar EDA"
   ]
  },
  {
   "cell_type": "markdown",
   "id": "39b2f50f",
   "metadata": {},
   "source": [
    "### Outline:\n",
    "- Pendahuluan EDA\n",
    "- Import data\n",
    "- Dasar data preparation (tipe data, duplikasi, variable selection)\n",
    "- Noise vs outlier\n",
    "- Missing value and imputation\n",
    "- Basic Statisics"
   ]
  },
  {
   "cell_type": "markdown",
   "id": "583d0173",
   "metadata": {},
   "source": [
    "### Pengantar\n",
    "- EDA merupakan syarat dasar bagi seluruh profesi (business intelligence, data analyst, data science, dlsb) yang terkait dengan pengolahan data. EDA merupakan tahapan awal dari kebanyakan proses analisis data dan menjadi suatu tahapan penting yang menentukan seberapa baik analisis data selanjutnya akan dihasilkan.\n",
    "- EDA diperkenalkan John Tukey 1961: *Procedure for analyzing data, techniques for interpreting the results of such procedures, ways of planning of data to make its analysis easier, more precise or more accurate, and all the machinery and results of (mathematical) statistics which apply to analyzing data*.\n",
    "- Komponen EDA: preprocessing, perhitungan statistika dasar, visualisasi, penyusunan hipotesis (dugaan awal), pemeriksaan asumsi, penanganan missing value dan outlier, reduksi dimensi, pengelompokan, transformasi, dan distribusi data.\n",
    "- Tools: Python (pandas), R, S-Plus, dll\n",
    "    \n"
   ]
  },
  {
   "cell_type": "markdown",
   "id": "fa7723c7-b906-4825-84d9-052e6d497a84",
   "metadata": {},
   "source": [
    "### Tujuan EDA\n",
    "- Penyusunan hipotesis mengenai penyebab fenomena yang diamati\n",
    "- Memeriksa asumsi-asumsi terhadap statistika inferensi yang akan digunakan\n",
    "- Pemilihan Teknik statistika yang sesuai\n",
    "- Menjadikan basis pengumpulan data selanjutnya\n"
   ]
  },
  {
   "cell_type": "markdown",
   "id": "a2e4f742",
   "metadata": {},
   "source": [
    "### Bagian Utama Eksplorasi\n",
    "\n",
    "- Preprocessing\n",
    "- Visualisasi\n",
    "- Statistika dasar \n",
    "- Clustering\n"
   ]
  },
  {
   "cell_type": "markdown",
   "id": "356754ee",
   "metadata": {},
   "source": [
    "##  \"Business & Data Understanding\"\n",
    "\n",
    "Tahap utama dalam EDA adalah **business & data understanding**. Dilakukan sebelum Data Preprocessing/Preparation.\n",
    "\n",
    "- Apa tujuan Machine Learning/AI kita?\n",
    "- Data apa yang tersedia?\n",
    "- Seberapa banyak (dan lama) data tersedia?\n",
    "- Ada yang memiliki label? (Variabel Target)\n",
    "- Apakah data ini relevan? Atau bisa dibuat relevan?\n",
    "- Bagaimana dengan kualitas data ini?\n",
    "- Ada data tambahan (eksternal)?\n",
    "- Siapa yang memahami tentang data ini dengan baik di perusahaan?\n"
   ]
  },
  {
   "cell_type": "markdown",
   "id": "3d85bd0e",
   "metadata": {},
   "source": [
    "### Data(set)\n",
    "\n",
    "- Koleksi objek/entitas dan atributnya\n",
    "- Atribut adalah sifat atau karakteristik dari objek\n",
    "- Contoh: objek manusia dapat dikarakterisasi menggunakan tinggi badan, berat badan, umur, jenis kelamin, dsb\n",
    "- Setiap atribut memiliki beberapa kemungkinan “state”, sebagai contoh: laki-laki/perempuan\n",
    "- Koleksi atribut mendefinisikan suatu objek\n",
    "\n",
    "\n",
    "<img src=\"pic1.jpg\" width=400 height=400 />\n"
   ]
  },
  {
   "cell_type": "markdown",
   "id": "ee0e3b85-46f1-4ee0-98ce-99d7d5c18477",
   "metadata": {},
   "source": [
    "### Preprocessing\n",
    "\n",
    "-\tKunci utama untuk mendapatkan model yang valid dan reliable\n",
    "-\tPreprocessing yang berbeda akan memberikan hasil/insight yang berbeda\n",
    "-\tProses dasar meliputi: seleksi variable dan “join”, data cleaning (duplikasi, noise, outliers), transformasi data, reduksi dimensi\n"
   ]
  },
  {
   "cell_type": "markdown",
   "id": "34027dd0-fec1-4a95-a172-dcbde2a9f296",
   "metadata": {},
   "source": [
    "### Mengapa perlu preprocessing?\n",
    "\n",
    "- Data di dunia nyata cenderung berantakan\n",
    "    - Noise: gaji bernilai negatif\n",
    "    - Outlier: penghasilan >500jt/bulan\n",
    "    - Duplikasi: banyak di media sosial\n",
    "    - Encoding: banyak di big data, karena masalah bagaimana data disimpan/join.\n",
    "- Tidak lengkap, kurang variabel penting\n",
    "- Analisis pada data yang tidak di preprocessing biasanya menghasilkan insight yang kurang tepat\n"
   ]
  },
  {
   "cell_type": "markdown",
   "id": "988c1eee-504b-4731-988b-242a3b4b6338",
   "metadata": {},
   "source": [
    "### Beberapa langkah utama preprocessing:\n",
    "\n",
    "1.\tData gathering\n",
    "2.\tData cleaning\n",
    "3.\tTransformasi data (missal encoding variabel kategorik)\n",
    "4.\tNormalisasi/standarisasi\n",
    "5.\tData reduction\n",
    "    - Variable selection (domain knowledge)\n",
    "    - Feature engineering\n",
    "    - Variable reduction\n",
    "\n"
   ]
  },
  {
   "cell_type": "markdown",
   "id": "1144bc44-246e-4e9c-92f7-0b5a4e9233ba",
   "metadata": {},
   "source": [
    "### Studi kasus\n",
    "\n",
    "- Misal seorang data scientist ditugaskan untuk menentukan investai property terbaik.\n",
    "- Tujuan analisis adalah menemukan harga rumah yang lebih rendah dari harga pasaran.\n",
    "- Asumikan kita memiliki data harga rumah yang ditawarkan dan variabel-variabel lainnya yang terkait.\n",
    "- Untuk membuat keputusan invetasi, kita akan melakukan EDA pada data yang ada.\n",
    "\n",
    "<img src=\"pic2.jpg\" width=400 height=400 />\n"
   ]
  },
  {
   "cell_type": "markdown",
   "id": "a0c6def6-1683-41c5-b626-4e2e9f9efcca",
   "metadata": {},
   "source": [
    "### Contoh kasus data harga property rumah\n",
    "\n",
    "- Sumber data: http://byebuyhome.com\n",
    "- Objective: menemukan harga rumah yang berada di bawah pasaran\n",
    "- Variabel:\n",
    "    -\t**Dist_taxi** – distance to nearest taxi stand from the property\n",
    "    -\t**Dist_Market** – distance to nearest grocery market from the property\n",
    "    -\t**Dist_Hospital** – distance to nearest hospital from the property\n",
    "    -\t**Carpet** – carpet area of the property in square feet\n",
    "    -\t**Builtup** – built-up area of the property in square feet\n",
    "    -\t**Parking** – type of car parking available with the property\n",
    "    -\t**City_Category** – categorization of the city based on the size\n",
    "    -\t**Rainfall** – annual rainfall in the area where the property is located\n",
    "    -\t**House_Price** – price at which the property was sold\n"
   ]
  },
  {
   "cell_type": "code",
   "execution_count": null,
   "id": "b20838b3-760e-4435-98f9-88a5ebbbe1c2",
   "metadata": {},
   "outputs": [],
   "source": []
  }
 ],
 "metadata": {
  "kernelspec": {
   "display_name": "Python 3",
   "language": "python",
   "name": "python3"
  },
  "language_info": {
   "codemirror_mode": {
    "name": "ipython",
    "version": 3
   },
   "file_extension": ".py",
   "mimetype": "text/x-python",
   "name": "python",
   "nbconvert_exporter": "python",
   "pygments_lexer": "ipython3",
   "version": "3.9.1"
  }
 },
 "nbformat": 4,
 "nbformat_minor": 5
}
